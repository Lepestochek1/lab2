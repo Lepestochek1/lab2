{
  "cell_type": "code",
  "execution_count": 3,
  "metadata": {},
  "outputs": [],
  "source": [
    "import pandas as pd\n",
    "import seaborn as sns\n",
    "import matplotlib.pyplot as plt\n",
    "data_url = 'https://raw.githubusercontent.com/radiukpavlo/intelligent-data-analysis/main/02_assignments/ida_lab-02_visual-analyzing-cvd/cvd_train.csv'\n",
    "df = pd.read_csv(data_url, sep=';')\n",
    "# Групуємо дані за рівнями холестерину і обчислюємо середній діастолічний тиск (ap_lo)\n",
    "df_grouped = df.groupby('cholesterol')['ap_lo'].mean().reset_index()\n",
    "# Задаємо ширину і висоту полотна\n",
    "plt.figure(figsize=(10, 6))\n",
    "# Створюємо лінійний графік\n",
    "sns.lineplot(data=df_grouped, x='cholesterol', y='ap_lo', marker='o') \n",
    "plt.title('Середній діастолічний тиск (ap_lo) за рівнем холестерину')\n",
    "plt.xlabel('Рівень холестерину')\n",
    "plt.ylabel('Середній діастолічний тиск (ap_lo)')\n",
    "# Сітка графіку\n",
    "plt.grid(True)\n",
    "plt.show()\n"
  ]
}
