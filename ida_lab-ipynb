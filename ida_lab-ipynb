  {
   "cell_type": "code",
   "execution_count": null,
   "metadata": {
    "ExecuteTime": {
     "end_time": "2023-10-03T14:40:31.403335100Z",
     "start_time": "2023-10-03T14:40:31.233858300Z"
    },
    "collapsed": false,
    "jupyter": {
     "outputs_hidden": false
    }
   },
   "outputs": [],
   "source": [
 "import pandas as pd\n",
    "import seaborn as sns\n",
    "import matplotlib.pyplot as plt\n",
    "data_url = 'https://raw.githubusercontent.com/radiukpavlo/intelligent-data-analysis/main/02_assignments/ida_lab-02_visual-analyzing-cvd/cvd_train.csv'\n",
    "df = pd.read_csv(data_url, sep=';')\n",
    "# Групуємо дані за рівнями холестерину і обчислюємо середній діастолічний тиск (ap_lo)\n",
    "df_grouped = df.groupby('cholesterol')['ap_lo'].mean().reset_index()\n",
    "# Задаємо ширину і висоту полотна\n",
    "plt.figure(figsize=(10, 6))\n",
    "# Створюємо лінійний графік\n",
    "sns.lineplot(data=df_grouped, x='cholesterol', y='ap_lo', marker='o') \n",
    "plt.title('Середній діастолічний тиск (ap_lo) за рівнем холестерину')\n",
    "plt.xlabel('Рівень холестерину')\n",
    "plt.ylabel('Середній діастолічний тиск (ap_lo)')\n",
    "# Сітка графіку\n",
    "plt.grid(True)\n",
    "plt.show()\n"
   ]
  }
 ],
 "metadata": {
  "kernelspec": {
   "display_name": "Python 3 (ipykernel)",
   "language": "python",
   "name": "python3"
  },
  "language_info": {
   "codemirror_mode": {
    "name": "ipython",
    "version": 3
   },
   "file_extension": ".py",
   "mimetype": "text/x-python",
   "name": "python",
   "nbconvert_exporter": "python",
   "pygments_lexer": "ipython3",
   "version": "3.9.16"
  }
 },
 "nbformat": 4,
 "nbformat_minor": 4
}
